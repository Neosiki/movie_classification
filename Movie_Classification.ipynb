{
 "cells": [
  {
   "cell_type": "markdown",
   "metadata": {},
   "source": [
    "# Movie_Classification.py\n",
    "\n",
    "### Tensorflow, pandas 라이브러리 추가"
   ]
  },
  {
   "cell_type": "code",
   "execution_count": 128,
   "metadata": {},
   "outputs": [],
   "source": [
    "#Tensorflow 라이브러리 추가\n",
    "import tensorflow as tf\n",
    "\n",
    "#pandas 라이브러리 추가\n",
    "import pandas as pd\n",
    "\n",
    "#sklearn의 train_test_split 라이브러리 추가(Dataset 내에서 train data와 test data를 분리하기 위해 사용)\n",
    "from sklearn.model_selection import train_test_split"
   ]
  },
  {
   "cell_type": "markdown",
   "metadata": {},
   "source": [
    "### Data Set 불러오기"
   ]
  },
  {
   "cell_type": "code",
   "execution_count": 129,
   "metadata": {},
   "outputs": [],
   "source": [
    "#data-set read\n",
    "movie = pd.read_csv(\"./data/movie.csv\", encoding ='CP949')\n",
    "\n",
    "#data set을 동아시아 글자 간격으로 보이게 설정\n",
    "pd.set_option('display.unicode.east_asian_width', True)"
   ]
  },
  {
   "cell_type": "markdown",
   "metadata": {},
   "source": [
    "### Data set의 열을 분리(Slice)"
   ]
  },
  {
   "cell_type": "code",
   "execution_count": 130,
   "metadata": {},
   "outputs": [
    {
     "name": "stdout",
     "output_type": "stream",
     "text": [
      "             영화제목  직감  이야기  감독경력  동원경험  배우  관람객 평점  \\\n",
      "0    블레이드러너2049     9      11        14         1    14            8   \n",
      "1          쥬라기월드    16      15        11         1    14            9   \n",
      "2                독전    15      12         6         1    13            8   \n",
      "3             데드풀2    16      16        10         1    14            9   \n",
      "4  어벤저스인피니티워    19      19        10         1    15            9   \n",
      "\n",
      "   전체 댓글 수  관객 수  \n",
      "0             5       32  \n",
      "1             5      566  \n",
      "2             5      370  \n",
      "3             5      378  \n",
      "4             5     1121  \n",
      "   Classes\n",
      "0        0\n",
      "1        1\n",
      "2        1\n",
      "3        1\n",
      "4        1\n"
     ]
    }
   ],
   "source": [
    "#label 데이터를 제외한 영화관련 데이터\n",
    "movie_data = movie.iloc[:,:-1]\n",
    "\n",
    "print(movie_data.head())\n",
    "\n",
    "#맨 마지막 열인 label 데이터\n",
    "label_data = movie.iloc[:,-1:]\n",
    "\n",
    "print(label_data.head())"
   ]
  },
  {
   "cell_type": "markdown",
   "metadata": {},
   "source": [
    "### 전체 data set중 30%를 test데이터, 70%는 학습에 사용하기 위해 임의로 분할"
   ]
  },
  {
   "cell_type": "code",
   "execution_count": 131,
   "metadata": {},
   "outputs": [],
   "source": [
    "train_x, test_x, train_y, test_y = train_test_split(movie_data, label_data, test_size=0.3, random_state=42, stratify=label_data)"
   ]
  },
  {
   "cell_type": "markdown",
   "metadata": {},
   "source": [
    "### 첫번째 열인 영화제목 열을 분리"
   ]
  },
  {
   "cell_type": "code",
   "execution_count": 132,
   "metadata": {},
   "outputs": [
    {
     "name": "stdout",
     "output_type": "stream",
     "text": [
      "16                  앤트맨과 와스프\n",
      "21                     캡틴아메리카\n",
      "11    극장판 헬로카봇 : 백악기 시대\n",
      "22                             밀정\n",
      "8                          램페이지\n",
      "Name: 영화제목, dtype: object\n",
      "14    어느 가족\n",
      "40       챔피온\n",
      "3       데드풀2\n",
      "15         인랑\n",
      "29         1987\n",
      "Name: 영화제목, dtype: object\n"
     ]
    }
   ],
   "source": [
    "train_name = train_x['영화제목']\n",
    "test_name = test_x['영화제목']\n",
    "\n",
    "print(train_name.head())\n",
    "\n",
    "print(test_name.head())"
   ]
  },
  {
   "cell_type": "markdown",
   "metadata": {},
   "source": [
    "### 직감 ~ 전체 댓글 수 열을 학습에 사용하기 위해 현재 가장 마지막인 관객 수 열을 분리 "
   ]
  },
  {
   "cell_type": "code",
   "execution_count": 133,
   "metadata": {},
   "outputs": [
    {
     "name": "stdout",
     "output_type": "stream",
     "text": [
      "    직감  이야기  감독경력  동원경험  배우  관람객 평점  전체 댓글 수\n",
      "16    11      12        14         1    11            9             5\n",
      "21     8       6         4         1    12            9             5\n",
      "11    10      10        10         1     9            9             4\n",
      "22    13      14        22         1    15            9             3\n",
      "8     12      12         9         1    12            9             5\n",
      "\n",
      "\n",
      "    직감  이야기  감독경력  동원경험  배우  관람객 평점  전체 댓글 수\n",
      "14    10      14        13         1     9            9             4\n",
      "40    13       9         5         0    12            8             5\n",
      "3     16      16        10         1    14            9             5\n",
      "15     9       8        15         1    15            6             5\n",
      "29    16      16         7         1    14            9             5\n"
     ]
    }
   ],
   "source": [
    "train_x = train_x.iloc[:,1:-1]\n",
    "\n",
    "print(train_x.head())\n",
    "print(\"\\n\")\n",
    "test_x = test_x.iloc[:,1:-1]\n",
    "\n",
    "print(test_x.head())"
   ]
  },
  {
   "cell_type": "markdown",
   "metadata": {},
   "source": [
    "### tensorflow 라이브러리를 이용하여 네트워크 만들기\n",
    "#### Input Layer 노드의 수 : 7개\n",
    "#### 1번째 Hidden Layer 노드의 수 : 3개\n",
    "#### 2번째 Hidden Layer 노드의 수 : 2개\n",
    "#### Output Layer 노드의 수 : 1개"
   ]
  },
  {
   "cell_type": "code",
   "execution_count": 134,
   "metadata": {},
   "outputs": [],
   "source": [
    "#Tensorflow에서 값을 처리하기 위해 필요한 Session 유형의 변수를 sess로 생성\n",
    "sess = tf.Session()\n",
    "\n",
    "#9개의 픽셀 데이터에 대한 Tensor\n",
    "#shape=(None, 7) : 입력하는 개수가 많을때는 정확히 알 수 없음(None), 한 번에 입력할 때 들어가는 데이터의 특징의 수 : 픽셀 9칸 -> 9\n",
    "#Input Layer 노드의 수 = 7\n",
    "X = tf.placeholder(tf.float32, shape=([None,7]),name=\"X\")\n",
    "\n",
    "#X에 입력한 픽셀의 실제 Label 값에 대한 Tensor\n",
    "#shape=(None, 1) : Output Layer의 노드의 수 = 1\n",
    "Y = tf.placeholder(tf.int32, shape=([None,1]),name=\"Y\")\n",
    "\n",
    "#Output Layer 노드의 수가 1개로 0인지 1인지 구별하기 위해 사용하는 방법이 One-hot encoding\n",
    "# 250만이상 관객 수 동원에 대한 One-hot encoding\n",
    "Y_one_hot = tf.one_hot(Y, 2, name=\"Y_one_hot\")  \n",
    "\n",
    "#[-1, 2]의 형태로 변환 -> -1 : 몇 개의 데이터를 사용할 지 모른다는 의미, 2 : 0, 1로 구별하겠다는 의미 \n",
    "Y_one_hot = tf.reshape(Y_one_hot, [-1, 2])\n",
    "\n",
    "#Hidden1_Layer\n",
    "#Input Layer의 각 노드에 대한 가중치(Weight)\n",
    "#W1 : 첫번째 Hidden Layer의 노드 3개\n",
    "W1 = tf.Variable(tf.truncated_normal([7,3]),name='W1')\n",
    "        \n",
    "#Input Layer의 각 노드에 대한 편향(bias)\n",
    "#b1 : 첫번째 Hidden Layer의 각 노드의 bias\n",
    "b1 = tf.Variable(tf.truncated_normal([3]),name='b1')\n",
    "\n",
    "#Hidden1_Layer : 입력한 데이터와 가중치의 곱셈 결과 + 편향(bias)\n",
    "H1_logits = tf.matmul(X, W1) + b1\n",
    "\n",
    "#Hidden2_Layer :  Hidden1_Layer결과값과 가중치의 곱셈 결과 + 편향(bias)\n",
    "W2 = tf.Variable(tf.truncated_normal([3,2]),name=\"W2\")\n",
    "\n",
    "b2 = tf.Variable(tf.truncated_normal([2]), name='b2')\n",
    "\n",
    "#Hidden2_Layer 계산 ㄱ밧\n",
    "logits = tf.matmul(H1_logits, W2) + b2\n",
    "\n",
    "#입력데이터와 출력 데이터의 관계(Relationship) 또는 패턴(Pattern)을 나타내기 위한 함수 : hypothesis\n",
    "hypothesis = tf.nn.softmax(logits)\n",
    "\n",
    "#Logits를 통해 그려진 그래프와, hypothesis를 통해 판별한 결과의 오차를 계산\n",
    "cost_i = tf.nn.softmax_cross_entropy_with_logits_v2(logits=logits,labels=Y_one_hot)\n",
    "\n",
    "#전체 오차의 평균\n",
    "cost = tf.reduce_mean(cost_i) \n",
    "\n",
    "#경사하강법(Gradient-Descent)를 이용하여 학습\n",
    "#학습률(Learning_rate) : 0.05 -> 학습을 하는 과정에서 경사를 하강하는 폭의 정도 -> 작을 수록 폭이 좁음, 넓을 수록 폭이 넓음\n",
    "optimization = tf.train.GradientDescentOptimizer(learning_rate=0.05).minimize(cost)\n",
    "\n",
    "#우리가 선정한 hypothesis 함수를 기반으로 Classification한 결과\n",
    "prediction = tf.argmax(hypothesis, 1) \n",
    "\n",
    "#Prediction의 결과가 실제 Label 값과 맞는지 여부\n",
    "correct_prediction = tf.equal(prediction, tf.argmax(Y_one_hot, 1)) \n",
    "\n",
    "#Prediction의 정확성을 저장하는 변수\n",
    "accuracy = tf.reduce_mean(tf.cast(correct_prediction, tf.float32)) \n",
    "\n",
    "#Tensorflow의 변수 초기화\n",
    "sess.run(tf.global_variables_initializer()) "
   ]
  },
  {
   "cell_type": "markdown",
   "metadata": {},
   "source": [
    "### 구성한 네트워크를 기반으로 2001번 반복하며 학습하기"
   ]
  },
  {
   "cell_type": "code",
   "execution_count": 135,
   "metadata": {},
   "outputs": [
    {
     "name": "stdout",
     "output_type": "stream",
     "text": [
      "Step:     0\tLoss: 8.051\tAcc: 36.67%\n",
      "Step:  1000\tLoss: 0.548\tAcc: 73.33%\n",
      "Step:  2000\tLoss: 0.543\tAcc: 76.67%\n"
     ]
    }
   ],
   "source": [
    "#2001번 반복하여 학습\n",
    "for step in range(2001):\n",
    "    \n",
    "    #입력은 train_x, Prediction 결과 비교를 위한 Y는 train_y로 사용하여 학습\n",
    "    _ = sess.run(optimization, feed_dict={X:train_x,Y:train_y}) \n",
    "    \n",
    "    \n",
    "    if step % 1000 == 0:\n",
    "        loss, acc = sess.run([cost, accuracy], feed_dict={X: train_x, Y: train_y})\n",
    "        print(\"Step: {:5}\\tLoss: {:.3f}\\tAcc: {:.2%}\".format(step, loss, acc))"
   ]
  },
  {
   "cell_type": "markdown",
   "metadata": {},
   "source": [
    "### 학습한 결과 테스트하기"
   ]
  },
  {
   "cell_type": "code",
   "execution_count": 140,
   "metadata": {},
   "outputs": [
    {
     "name": "stdout",
     "output_type": "stream",
     "text": [
      "Test Prediction = 0.61538464\n",
      "          Movie Title  Predict_Audience  Origin_Audience  Correct\n",
      "14          어느 가족                 0                0     True\n",
      "40             챔피온                 1                0    False\n",
      "3             데드풀2                 1                1     True\n",
      "15               인랑                 1                0    False\n",
      "29               1987                 1                1     True\n",
      "2                독전                 1                1     True\n",
      "20           검사외전                 0                1    False\n",
      "10  신과함께 - 인과연                 1                1     True\n",
      "7    레디 플레이어 원                 1                0    False\n",
      "34           그래비티                 1                1     True\n",
      "13       인크레더블 2                 1                1     True\n",
      "32               더킹                 1                1     True\n",
      "31           7년의 밤                 1                0    False\n"
     ]
    }
   ],
   "source": [
    "test_acc,test_predict,test_correct = sess.run([accuracy,prediction,correct_prediction], feed_dict={X: test_x, Y: test_y})\n",
    "\n",
    "print(\"Test Prediction =\", test_acc)   \n",
    "\n",
    "#Test 결과를 저장하기 위한 Data구조 생성\n",
    "sub = pd.DataFrame() \n",
    "\n",
    "#영화제목\n",
    "sub['Movie Title'] = test_name\n",
    "\n",
    "#모델이 예측한 값 :250만 넘으면 1, 그렇지 않으면 0\n",
    "sub['Predict_Audience'] = test_predict \n",
    "\n",
    "#실제 관객 동원 수 : 250만 넘으면 1, 그렇지 않으면 0\n",
    "sub['Origin_Audience'] = test_y\n",
    "\n",
    "#모델이 예측한 값과 실제 Label 값이 맞는지 여부\n",
    "sub['Correct'] = test_correct\n",
    "\n",
    "print(sub)"
   ]
  }
 ],
 "metadata": {
  "kernelspec": {
   "display_name": "Python 3",
   "language": "python",
   "name": "python3"
  },
  "language_info": {
   "codemirror_mode": {
    "name": "ipython",
    "version": 3
   },
   "file_extension": ".py",
   "mimetype": "text/x-python",
   "name": "python",
   "nbconvert_exporter": "python",
   "pygments_lexer": "ipython3",
   "version": "3.6.5"
  }
 },
 "nbformat": 4,
 "nbformat_minor": 2
}
